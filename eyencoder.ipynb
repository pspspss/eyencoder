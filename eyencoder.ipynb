{
 "cells": [
  {
   "cell_type": "code",
   "execution_count": 4,
   "metadata": {},
   "outputs": [],
   "source": [
    "import cv2\n",
    "import numpy as np\n",
    "import matplotlib.pyplot as plt\n",
    "\n",
    "import os\n",
    "import requests\n",
    "import itertools\n",
    "\n",
    "from tqdm import tqdm\n",
    "%matplotlib inline\n",
    "\n",
    "face_cascade = cv2.CascadeClassifier('haarcascades/haarcascade_frontalface_default.xml')\n",
    "eye_cascade = cv2.CascadeClassifier('haarcascades/haarcascade_eye.xml')"
   ]
  },
  {
   "cell_type": "code",
   "execution_count": 5,
   "metadata": {},
   "outputs": [],
   "source": [
    "def try_get_people_face(links):\n",
    "    num_images = 0\n",
    "    \n",
    "    for link in tqdm(links):\n",
    "        try:\n",
    "            raw_image = requests.get(link)\n",
    "            raw_image_transf = np.fromstring(raw_image.content, dtype='uint8')\n",
    "\n",
    "            cv2_image = cv2.imdecode(raw_image_transf, cv2.IMREAD_UNCHANGED)\n",
    "            cv2_image_resized = cv2.resize(cv2_image, (300, 300)) \n",
    "            cv2_image_resized_without_eyes = cv2_image_resized.copy()\n",
    "\n",
    "            cv2_image_resized_gray = cv2.cvtColor(cv2_image_resized, 0)\n",
    "            faces = face_cascade.detectMultiScale(cv2_image_resized_gray, 1.3, 5)\n",
    "\n",
    "            accept = False\n",
    "            for (x, y, w, h) in faces:\n",
    "                face_gray = cv2_image_resized_gray[y:y+h, x:x+w]\n",
    "\n",
    "                eyes = eye_cascade.detectMultiScale(face_gray)\n",
    "                for (ex, ey, ew, eh) in eyes:\n",
    "                    accept = True\n",
    "                    cv2_image_resized_without_eyes[y+ey:y+ey+eh, x+ex:x+ex+ew] = 0\n",
    "\n",
    "            if accept:\n",
    "                num_images += 1\n",
    "                cv2.imwrite('data/train/p_'+str(num_images)+'.jpg', cv2_image_resized)\n",
    "                cv2.imwrite('data/train/p_'+str(num_images)+'_without_eyes.jpg', cv2_image_resized_without_eyes)\n",
    "\n",
    "        except Exception as e:\n",
    "            pass\n",
    "        \n",
    "    print('Downloaded {} faces'.format(num_images))"
   ]
  },
  {
   "cell_type": "code",
   "execution_count": null,
   "metadata": {
    "scrolled": true
   },
   "outputs": [
    {
     "name": "stderr",
     "output_type": "stream",
     "text": [
      "  3%|▎         | 81/3005 [01:23<50:11,  1.03s/it]  "
     ]
    }
   ],
   "source": [
    "urls = [\n",
    "    'http://www.image-net.org/api/text/imagenet.synset.geturls?wnid=n09618957',\n",
    "    'http://www.image-net.org/api/text/imagenet.synset.geturls?wnid=n07942152'\n",
    "]\n",
    "    \n",
    "links = []\n",
    "for url in urls:\n",
    "    response = requests.get(url)\n",
    "    links.append([link[:-1] for link in response.text.split('\\n')])\n",
    "\n",
    "links = list(itertools.chain(*links))\n",
    "try_get_people_face(links)"
   ]
  },
  {
   "cell_type": "code",
   "execution_count": null,
   "metadata": {},
   "outputs": [],
   "source": []
  }
 ],
 "metadata": {
  "kernelspec": {
   "display_name": "Python 3",
   "language": "python",
   "name": "python3"
  },
  "language_info": {
   "codemirror_mode": {
    "name": "ipython",
    "version": 3
   },
   "file_extension": ".py",
   "mimetype": "text/x-python",
   "name": "python",
   "nbconvert_exporter": "python",
   "pygments_lexer": "ipython3",
   "version": "3.5.2"
  }
 },
 "nbformat": 4,
 "nbformat_minor": 2
}
